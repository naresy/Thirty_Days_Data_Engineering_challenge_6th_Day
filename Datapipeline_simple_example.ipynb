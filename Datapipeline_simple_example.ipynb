{
 "cells": [
  {
   "cell_type": "code",
   "execution_count": 2,
   "id": "41ce6f0c",
   "metadata": {},
   "outputs": [
    {
     "name": "stdout",
     "output_type": "stream",
     "text": [
      "Transformed Data:\n",
      "      id  disease_id                 disease_name  \\\n",
      "0      1           1                    Cataracts   \n",
      "1      2           2                     trachoma   \n",
      "2      3           3  Keratotoconjunctives sicca    \n",
      "3      4           4         Macular Degeneration   \n",
      "4      5           5                 Astigmatism    \n",
      "..   ...         ...                          ...   \n",
      "133  134         134            Repetitive strain   \n",
      "134  135         135          Sprains and strains   \n",
      "135  136         136           Nerve pinch injury   \n",
      "136  137         137           Vertebral fracture   \n",
      "137  138         138           Spinal cord damage   \n",
      "\n",
      "                                                 cause  \\\n",
      "0    Build Up Protein in an Eye .Present From Birth...   \n",
      "1    Water shortage , poor sanitation and infestati...   \n",
      "2                    Dry eyes ,causes Eye infections .   \n",
      "3    Smoking ,Obesity ,Cardiovascular Disease ,Fami...   \n",
      "4    Blurred distance and near vision.Astigmatism i...   \n",
      "..                                                 ...   \n",
      "133  RSI is related to the overuse of muscles and t...   \n",
      "134  Sprains and strains occur when the body is put...   \n",
      "135  A pinched nerve occurs when too much pressure ...   \n",
      "136  When bones are brittle, your vertebrae aren’t ...   \n",
      "137  Spinal cord injuries may result from damage to...   \n",
      "\n",
      "                                    transformed_column  \n",
      "0    CataractsBuild Up Protein in an Eye .Present F...  \n",
      "1    trachomaWater shortage , poor sanitation and i...  \n",
      "2    Keratotoconjunctives sicca Dry eyes ,causes Ey...  \n",
      "3    Macular DegenerationSmoking ,Obesity ,Cardiova...  \n",
      "4    Astigmatism Blurred distance and near vision.A...  \n",
      "..                                                 ...  \n",
      "133  Repetitive strainRSI is related to the overuse...  \n",
      "134  Sprains and strainsSprains and strains occur w...  \n",
      "135  Nerve pinch injuryA pinched nerve occurs when ...  \n",
      "136  Vertebral fractureWhen bones are brittle, your...  \n",
      "137  Spinal cord damageSpinal cord injuries may res...  \n",
      "\n",
      "[138 rows x 5 columns]\n",
      "Data pipeline completed successfully!\n"
     ]
    },
    {
     "name": "stderr",
     "output_type": "stream",
     "text": [
      "/var/folders/_q/x217mw4d3jb_h85yxh6jfnc80000gn/T/ipykernel_12535/3916134349.py:24: UserWarning: pandas only supports SQLAlchemy connectable (engine/connection) or database string URI or sqlite3 DBAPI2 connection. Other DBAPI2 objects are not tested. Please consider using SQLAlchemy.\n",
      "  source_data = pd.read_sql(query, conn)\n"
     ]
    }
   ],
   "source": [
    "import pandas as pd\n",
    "import mysql.connector\n",
    "\n",
    "# Configuration\n",
    "mysql_config = {\n",
    "    'host': '127.0.0.1',\n",
    "    'port': '3306',\n",
    "    'database': 'disease',\n",
    "    'user': 'root',\n",
    "    'password': ''\n",
    "}\n",
    "\n",
    "# Connect to MySQL database\n",
    "conn = mysql.connector.connect(\n",
    "    host=mysql_config['host'],\n",
    "    port=mysql_config['port'],\n",
    "    database=mysql_config['database'],\n",
    "    user=mysql_config['user'],\n",
    "    password=mysql_config['password']\n",
    ")\n",
    "\n",
    "# Extract data from MySQL database\n",
    "query = \"SELECT * FROM disease_tb\"\n",
    "source_data = pd.read_sql(query, conn)\n",
    "\n",
    "# Perform transformations\n",
    "transformed_data = source_data.copy()\n",
    "transformed_data['transformed_column'] = transformed_data['disease_name'] + transformed_data['cause']\n",
    "\n",
    "# Print transformed data\n",
    "print(\"Transformed Data:\")\n",
    "print(transformed_data)\n",
    "\n",
    "# Load transformed data into MySQL database\n",
    "cursor = conn.cursor()\n",
    "for index, row in transformed_data.iterrows():\n",
    "    # Replace 'transformed_column' with the actual column name in the destination table\n",
    "    cursor.execute(\"INSERT INTO diesease_destination (transformed_column) VALUES (%s)\", (row['transformed_column'],))\n",
    "conn.commit()\n",
    "\n",
    "cursor.close()\n",
    "conn.close()\n",
    "\n",
    "print(\"Data pipeline completed successfully!\")\n"
   ]
  },
  {
   "cell_type": "code",
   "execution_count": null,
   "id": "ad171738",
   "metadata": {},
   "outputs": [],
   "source": []
  }
 ],
 "metadata": {
  "kernelspec": {
   "display_name": "Python 3 (ipykernel)",
   "language": "python",
   "name": "python3"
  },
  "language_info": {
   "codemirror_mode": {
    "name": "ipython",
    "version": 3
   },
   "file_extension": ".py",
   "mimetype": "text/x-python",
   "name": "python",
   "nbconvert_exporter": "python",
   "pygments_lexer": "ipython3",
   "version": "3.11.0"
  }
 },
 "nbformat": 4,
 "nbformat_minor": 5
}
